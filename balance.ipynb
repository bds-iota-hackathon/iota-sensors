{
 "cells": [
  {
   "cell_type": "code",
   "execution_count": 28,
   "metadata": {},
   "outputs": [],
   "source": [
    "import urllib2\n",
    "import json\n",
    "import pprint"
   ]
  },
  {
   "cell_type": "code",
   "execution_count": 29,
   "metadata": {},
   "outputs": [],
   "source": [
    "command = {\n",
    "    'command': 'getNodeInfo'\n",
    "}\n",
    "stringified = json.dumps(command)"
   ]
  },
  {
   "cell_type": "code",
   "execution_count": 30,
   "metadata": {},
   "outputs": [],
   "source": [
    "headers = {\n",
    "    'content-type': 'application/json',\n",
    "    'X-IOTA-API-Version': '1'\n",
    "}"
   ]
  },
  {
   "cell_type": "code",
   "execution_count": 31,
   "metadata": {},
   "outputs": [],
   "source": [
    "request = urllib2.Request(url=\"http://p101.iotaledger.net:14700\", data=stringified, headers=headers)\n",
    "returnData = urllib2.urlopen(request).read()"
   ]
  },
  {
   "cell_type": "code",
   "execution_count": 32,
   "metadata": {},
   "outputs": [],
   "source": [
    "jsonData = json.loads(returnData)"
   ]
  },
  {
   "cell_type": "code",
   "execution_count": 33,
   "metadata": {},
   "outputs": [
    {
     "name": "stdout",
     "output_type": "stream",
     "text": [
      "{u'appName': u'IRI Testnet',\n",
      " u'appVersion': u'1.4.1.2',\n",
      " u'duration': 0,\n",
      " u'jreAvailableProcessors': 8,\n",
      " u'jreFreeMemory': 1472279600,\n",
      " u'jreMaxMemory': 6438780928,\n",
      " u'jreTotalMemory': 6438780928,\n",
      " u'jreVersion': u'1.8.0_151',\n",
      " u'latestMilestone': u'VUG9QANYTLLTJZSQJLEL9LPTWJNHRRIRTBUSDAXZXZXVGZZGETQJRH9FGTBK9LYSOQDWWLRUFRFJG9999',\n",
      " u'latestMilestoneIndex': 416845,\n",
      " u'latestSolidSubtangleMilestone': u'VUG9QANYTLLTJZSQJLEL9LPTWJNHRRIRTBUSDAXZXZXVGZZGETQJRH9FGTBK9LYSOQDWWLRUFRFJG9999',\n",
      " u'latestSolidSubtangleMilestoneIndex': 416845,\n",
      " u'neighbors': 15,\n",
      " u'packetsQueueSize': 0,\n",
      " u'time': 1511020606916,\n",
      " u'tips': 1817,\n",
      " u'transactionsToRequest': 0}\n"
     ]
    }
   ],
   "source": [
    "pprint.pprint(jsonData)"
   ]
  },
  {
   "cell_type": "code",
   "execution_count": 34,
   "metadata": {},
   "outputs": [],
   "source": [
    "command = {\n",
    "    'command': 'getBalances',\n",
    "    'addresses': ['PYSFOYYDNGZPDUDMZJUKLDDBMYUJWAOKCEHLFEKQEGCJERWZ9QON9ZYYOKXZKLUBUQGRKDCPGWTQA9ICW'],\n",
    "    'threshold': 100\n",
    "}\n",
    "stringified = json.dumps(command)"
   ]
  },
  {
   "cell_type": "code",
   "execution_count": 35,
   "metadata": {},
   "outputs": [
    {
     "name": "stdout",
     "output_type": "stream",
     "text": [
      "{u'balances': [u'2001'],\n",
      " u'duration': 0,\n",
      " u'milestone': u'VEYAQ9TNCA9ARCOVWJSZOJPRKMVJTFSUHMXOATDVVPPAHMVWP9FSVEUSZGBFSZPAJQCZOWQNDYQULZ999',\n",
      " u'milestoneIndex': 416846}\n"
     ]
    }
   ],
   "source": [
    "stringified = json.dumps(command)\n",
    "request = urllib2.Request(url=\"http://p101.iotaledger.net:14700\", data=stringified, headers=headers)\n",
    "returnData = urllib2.urlopen(request).read()\n",
    "jsonData = json.loads(returnData)\n",
    "pprint.pprint(jsonData)"
   ]
  },
  {
   "cell_type": "code",
   "execution_count": 37,
   "metadata": {},
   "outputs": [],
   "source": [
    "command = {\n",
    "    'command': 'getBalances',\n",
    "    'addresses': ['ZIXBNJGKOZZHL9XMUYESGIRXOGNTJBDPBHXWRPACRL9AGDJYGWH9XKHANJTRGCP9ANBIEXUQSII9JOOWD'],\n",
    "    'threshold': 100\n",
    "}\n",
    "stringified = json.dumps(command)"
   ]
  },
  {
   "cell_type": "code",
   "execution_count": 38,
   "metadata": {},
   "outputs": [
    {
     "name": "stdout",
     "output_type": "stream",
     "text": [
      "{u'balances': [u'0'],\n",
      " u'duration': 1,\n",
      " u'milestone': u'VEYAQ9TNCA9ARCOVWJSZOJPRKMVJTFSUHMXOATDVVPPAHMVWP9FSVEUSZGBFSZPAJQCZOWQNDYQULZ999',\n",
      " u'milestoneIndex': 416846}\n"
     ]
    }
   ],
   "source": [
    "request = urllib2.Request(url=\"http://p101.iotaledger.net:14700\", data=stringified, headers=headers)\n",
    "returnData = urllib2.urlopen(request).read()\n",
    "jsonData = json.loads(returnData)\n",
    "pprint.pprint(jsonData)"
   ]
  },
  {
   "cell_type": "code",
   "execution_count": 39,
   "metadata": {},
   "outputs": [],
   "source": [
    "command = {\n",
    "    'command': 'findTransactions',\n",
    "    'addresses': ['PYSFOYYDNGZPDUDMZJUKLDDBMYUJWAOKCEHLFEKQEGCJERWZ9QON9ZYYOKXZKLUBUQGRKDCPGWTQA9ICW']\n",
    "}\n",
    "stringified = json.dumps(command)"
   ]
  },
  {
   "cell_type": "code",
   "execution_count": 40,
   "metadata": {},
   "outputs": [
    {
     "name": "stdout",
     "output_type": "stream",
     "text": [
      "{u'duration': 0,\n",
      " u'hashes': [u'ODKRWWJKRNYPRDOJWRIMXUJUAK999LOTUHVIMSRGOYLTWUFTDGTQILRMMJYVPCJQVJJFSEBURAW999999',\n",
      "             u'E9F9RYGZSXOCZRSBFKHS9QWKOIETBYYXKYPILBYCQPLKRXREPBKMZBTCWIMGGCUWZAIFORGVYIBNS9999',\n",
      "             u'JDRFJFOQGTZULXRMFLJFZAYCNRZNSSTWDIXUKXUZPLCZTQLVKPZGQYYJKWEKBWLQZYRNPUS9OSX999999',\n",
      "             u'YSKMCJDPTPPXNYWRMUFLYYYLLCNIUBIEOEXXKIEFSZDC9OXHPMEMROVBJKBDJQEWCJFPDOATFCUA99999',\n",
      "             u'YPSMGYKQEEZOFGHADGLBDGUSPITCLZQZBYBREQGEHVZLBRFMDROLKVOJLBUNH9RKRDFMPPCEVVGZ99999',\n",
      "             u'OOJORNMJEHIBPLVLKIJFCWAZGUUOYBSPIGDSLWHRVMJ9KIAJXZTYC9SHGVDPYJWXXLZIZASNDOVD99999',\n",
      "             u'OYTWJGMSWDLQNUHKX9PILGTYCHYFXKDWQCWXXJFZXNOGXEFDRVIXSYUNNRRCJYNKHZWBJQXDXN9C99999']}\n"
     ]
    }
   ],
   "source": [
    "request = urllib2.Request(url=\"http://p101.iotaledger.net:14700\", data=stringified, headers=headers)\n",
    "returnData = urllib2.urlopen(request).read()\n",
    "jsonData = json.loads(returnData)\n",
    "pprint.pprint(jsonData)"
   ]
  },
  {
   "cell_type": "code",
   "execution_count": 41,
   "metadata": {},
   "outputs": [],
   "source": [
    "command = {\n",
    "    'command': 'findTransactions',\n",
    "    'addresses': ['ZIXBNJGKOZZHL9XMUYESGIRXOGNTJBDPBHXWRPACRL9AGDJYGWH9XKHANJTRGCP9ANBIEXUQSII9JOOWD']\n",
    "}\n",
    "stringified = json.dumps(command)"
   ]
  },
  {
   "cell_type": "code",
   "execution_count": 43,
   "metadata": {},
   "outputs": [
    {
     "name": "stdout",
     "output_type": "stream",
     "text": [
      "{u'duration': 1,\n",
      " u'hashes': [u'OHXQTYEWURTMFZHBZVPFCLGIFIOXQIKHOJLSAXYQVDRZIFQPSNFL9AAGKYDLBGVV9CPNUDFBHU9C99999',\n",
      "             u'HQYZQGUNJEHFWUDDSBOHP9KRIPCNBLRAVDPKMKIOEOELUYVEXOXVMMCCTGGJIT9RY9VAWHKSMZJB99999',\n",
      "             u'UDXNDMNFWMZSZWAMFESQPFIGYJULADYZFY9IWJLBWTN9GDQS9IBBBITCRQWCVZF9HJ9VETCCKDC999999',\n",
      "             u'YMU9X9COQQSOZK9JTRGSDLSDSUSTRYHYEXFHRBETAAIKGBGNHPGCXLCK9EHV9TQ9FMQIVLFYFD9FSK999',\n",
      "             u'OFKKFSNVQZSYENM9GZEGSBTUJBP9FGDVZJQABVXNZNFIOODCHJVCMXZKUVCFDJNQADRR9NSWFDF999999',\n",
      "             u'ZPTQZBLVEEFSKKMFTHGAIYIZXSTUEYZD9MTAFLJOYUMLITEKXZPDILCRQKSJ9MENHYPAYU9OCXPC99999',\n",
      "             u'LHQ9TKMTCDPMQVUSKITFBOKLAAQHVEJQTXWHQ9CSIBEBITSRQZEOJUUAISZ9UCIKGUPYAWVCLCTD99999',\n",
      "             u'WPBMWINPEFJ9DQX9TOK9AUNDZBRNQXLJFXJAZIJZTHCSZCTPMUQAOZUQHYLQHHURDMJBFKIYBFSWDN999',\n",
      "             u'MDWRFPQFHDHPXXSXUSLOHMBYKD9XCUHWIBJQZBBXS9YMG9EKIK9EKNFQHWAMUWUJVDQIXFSBRRGY99999',\n",
      "             u'OSQAWJIARWVUKXVDICUJ9MGOQZJVYCGFZXEQHVAFMUZIAZFTPBXBZ9PHTWEGZUTOLRRXITYZDGVX99999']}\n"
     ]
    }
   ],
   "source": [
    "request = urllib2.Request(url=\"http://p101.iotaledger.net:14700\", data=stringified, headers=headers)\n",
    "returnData = urllib2.urlopen(request).read()\n",
    "jsonData = json.loads(returnData)\n",
    "pprint.pprint(jsonData)"
   ]
  },
  {
   "cell_type": "code",
   "execution_count": 44,
   "metadata": {},
   "outputs": [],
   "source": [
    "transactionHashes = jsonData[\"hashes\"]"
   ]
  },
  {
   "cell_type": "code",
   "execution_count": 45,
   "metadata": {},
   "outputs": [],
   "source": [
    "command = {\n",
    "    'command': 'getTrytes',\n",
    "    'hashes': transactionHashes\n",
    "}\n",
    "\n",
    "stringified = json.dumps(command)"
   ]
  },
  {
   "cell_type": "code",
   "execution_count": 46,
   "metadata": {},
   "outputs": [
    {
     "data": {
      "text/plain": [
       "'{\"hashes\": [\"OHXQTYEWURTMFZHBZVPFCLGIFIOXQIKHOJLSAXYQVDRZIFQPSNFL9AAGKYDLBGVV9CPNUDFBHU9C99999\", \"HQYZQGUNJEHFWUDDSBOHP9KRIPCNBLRAVDPKMKIOEOELUYVEXOXVMMCCTGGJIT9RY9VAWHKSMZJB99999\", \"UDXNDMNFWMZSZWAMFESQPFIGYJULADYZFY9IWJLBWTN9GDQS9IBBBITCRQWCVZF9HJ9VETCCKDC999999\", \"YMU9X9COQQSOZK9JTRGSDLSDSUSTRYHYEXFHRBETAAIKGBGNHPGCXLCK9EHV9TQ9FMQIVLFYFD9FSK999\", \"OFKKFSNVQZSYENM9GZEGSBTUJBP9FGDVZJQABVXNZNFIOODCHJVCMXZKUVCFDJNQADRR9NSWFDF999999\", \"ZPTQZBLVEEFSKKMFTHGAIYIZXSTUEYZD9MTAFLJOYUMLITEKXZPDILCRQKSJ9MENHYPAYU9OCXPC99999\", \"LHQ9TKMTCDPMQVUSKITFBOKLAAQHVEJQTXWHQ9CSIBEBITSRQZEOJUUAISZ9UCIKGUPYAWVCLCTD99999\", \"WPBMWINPEFJ9DQX9TOK9AUNDZBRNQXLJFXJAZIJZTHCSZCTPMUQAOZUQHYLQHHURDMJBFKIYBFSWDN999\", \"MDWRFPQFHDHPXXSXUSLOHMBYKD9XCUHWIBJQZBBXS9YMG9EKIK9EKNFQHWAMUWUJVDQIXFSBRRGY99999\", \"OSQAWJIARWVUKXVDICUJ9MGOQZJVYCGFZXEQHVAFMUZIAZFTPBXBZ9PHTWEGZUTOLRRXITYZDGVX99999\"], \"command\": \"getTrytes\"}'"
      ]
     },
     "execution_count": 46,
     "metadata": {},
     "output_type": "execute_result"
    }
   ],
   "source": [
    "stringified"
   ]
  },
  {
   "cell_type": "code",
   "execution_count": 47,
   "metadata": {},
   "outputs": [],
   "source": [
    "request = urllib2.Request(url=\"http://p101.iotaledger.net:14700\", data=stringified, headers=headers)\n",
    "returnData = urllib2.urlopen(request).read()\n",
    "jsonData = json.loads(returnData)\n",
    "#pprint.pprint(jsonData)"
   ]
  },
  {
   "cell_type": "code",
   "execution_count": 48,
   "metadata": {},
   "outputs": [],
   "source": [
    "trytes = jsonData[\"trytes\"]\n",
    "#trytes"
   ]
  },
  {
   "cell_type": "code",
   "execution_count": 49,
   "metadata": {},
   "outputs": [],
   "source": [
    "command = {\n",
    "    'command': 'getTransactionsToApprove',\n",
    "    'depth': 27\n",
    "}\n",
    "\n",
    "stringified = json.dumps(command)\n",
    "\n",
    "request = urllib2.Request(url=\"http://p101.iotaledger.net:14700\", data=stringified, headers=headers)\n",
    "returnData = urllib2.urlopen(request).read()\n",
    "\n",
    "jsonData = json.loads(returnData)"
   ]
  },
  {
   "cell_type": "code",
   "execution_count": 21,
   "metadata": {},
   "outputs": [],
   "source": [
    "trunkTransaction = jsonData[\"trunkTransaction\"]\n",
    "branchTransaction = jsonData[\"branchTransaction\"]"
   ]
  },
  {
   "cell_type": "code",
   "execution_count": 22,
   "metadata": {},
   "outputs": [],
   "source": [
    "command = {\n",
    "    'command': 'attachToTangle',\n",
    "    'trunkTransaction': trunkTransaction, \n",
    "    'branchTransaction': branchTransaction,\n",
    "    'minWeightMagnitude': 18,\n",
    "    'trytes': trytes\n",
    "}\n",
    "\n",
    "stringified = json.dumps(command)"
   ]
  },
  {
   "cell_type": "code",
   "execution_count": 23,
   "metadata": {},
   "outputs": [],
   "source": [
    "#request = urllib2.Request(url=\"http://p101.iotaledger.net:14700\", data=stringified, headers=headers)\n",
    "#returnData = urllib2.urlopen(request).read()\n",
    "#jsonData = json.loads(returnData)\n",
    "#pprint.pprint(jsonData)"
   ]
  },
  {
   "cell_type": "code",
   "execution_count": null,
   "metadata": {},
   "outputs": [],
   "source": []
  },
  {
   "cell_type": "code",
   "execution_count": null,
   "metadata": {},
   "outputs": [],
   "source": []
  },
  {
   "cell_type": "code",
   "execution_count": null,
   "metadata": {},
   "outputs": [],
   "source": []
  },
  {
   "cell_type": "code",
   "execution_count": 24,
   "metadata": {},
   "outputs": [],
   "source": [
    "command = {\n",
    "    'command': 'getTips',\n",
    "}\n",
    "\n",
    "stringified = json.dumps(command)"
   ]
  },
  {
   "cell_type": "code",
   "execution_count": 25,
   "metadata": {},
   "outputs": [
    {
     "data": {
      "text/plain": [
       "[u'JGZOXWBLCVIVGIVUZ9C9MCWYXXYYTQUQPZGAMRR9RDRNBBRHYBQWUEKGJRK9ZMEDEGVBUEDVUYXFA9999',\n",
       " u'KRQL9AQMZPXZPGEFAFHBSNQZLHTGWGPUZAYQMLAPOUDWAYYIVHPCSWW9ZWAMHNWHDDKDUXC9XRPJ99999',\n",
       " u'ZKQICWXROGCNWODGFDOMBF9BEXCEMAZLOCXBLHSELSNL9DJGSXNZFHCUATUNKYAND9HKEP9DWKIWZ9999']"
      ]
     },
     "execution_count": 25,
     "metadata": {},
     "output_type": "execute_result"
    }
   ],
   "source": [
    "request = urllib2.Request(url=\"http://p101.iotaledger.net:14700\", data=stringified, headers=headers)\n",
    "returnData = urllib2.urlopen(request).read()\n",
    "jsonData = json.loads(returnData)\n",
    "#pprint.pprint(jsonData)\n",
    "tips = jsonData[\"hashes\"]\n",
    "tips[:3]"
   ]
  },
  {
   "cell_type": "code",
   "execution_count": 52,
   "metadata": {},
   "outputs": [],
   "source": [
    "command = {\n",
    "    'command': 'getTransactionsObjects',\n",
    "    'transactions': [\"ODKRWWJKRNYPRDOJWRIMXUJUAK999LOTUHVIMSRGOYLTWUFTDGTQILRMMJYVPCJQVJJFSEBURAW999999\"],\n",
    "}\n",
    "\n",
    "stringified = json.dumps(command)"
   ]
  },
  {
   "cell_type": "code",
   "execution_count": 53,
   "metadata": {},
   "outputs": [
    {
     "ename": "HTTPError",
     "evalue": "HTTP Error 400: Bad Request",
     "output_type": "error",
     "traceback": [
      "\u001b[0;31m---------------------------------------------------------------------------\u001b[0m",
      "\u001b[0;31mHTTPError\u001b[0m                                 Traceback (most recent call last)",
      "\u001b[0;32m<ipython-input-53-5550521a07a6>\u001b[0m in \u001b[0;36m<module>\u001b[0;34m()\u001b[0m\n\u001b[1;32m      1\u001b[0m \u001b[0mrequest\u001b[0m \u001b[0;34m=\u001b[0m \u001b[0murllib2\u001b[0m\u001b[0;34m.\u001b[0m\u001b[0mRequest\u001b[0m\u001b[0;34m(\u001b[0m\u001b[0murl\u001b[0m\u001b[0;34m=\u001b[0m\u001b[0;34m\"http://p101.iotaledger.net:14700\"\u001b[0m\u001b[0;34m,\u001b[0m \u001b[0mdata\u001b[0m\u001b[0;34m=\u001b[0m\u001b[0mstringified\u001b[0m\u001b[0;34m,\u001b[0m \u001b[0mheaders\u001b[0m\u001b[0;34m=\u001b[0m\u001b[0mheaders\u001b[0m\u001b[0;34m)\u001b[0m\u001b[0;34m\u001b[0m\u001b[0m\n\u001b[0;32m----> 2\u001b[0;31m \u001b[0mreturnData\u001b[0m \u001b[0;34m=\u001b[0m \u001b[0murllib2\u001b[0m\u001b[0;34m.\u001b[0m\u001b[0murlopen\u001b[0m\u001b[0;34m(\u001b[0m\u001b[0mrequest\u001b[0m\u001b[0;34m)\u001b[0m\u001b[0;34m.\u001b[0m\u001b[0mread\u001b[0m\u001b[0;34m(\u001b[0m\u001b[0;34m)\u001b[0m\u001b[0;34m\u001b[0m\u001b[0m\n\u001b[0m\u001b[1;32m      3\u001b[0m \u001b[0mjsonData\u001b[0m \u001b[0;34m=\u001b[0m \u001b[0mjson\u001b[0m\u001b[0;34m.\u001b[0m\u001b[0mloads\u001b[0m\u001b[0;34m(\u001b[0m\u001b[0mreturnData\u001b[0m\u001b[0;34m)\u001b[0m\u001b[0;34m\u001b[0m\u001b[0m\n\u001b[1;32m      4\u001b[0m \u001b[0mpprint\u001b[0m\u001b[0;34m.\u001b[0m\u001b[0mpprint\u001b[0m\u001b[0;34m(\u001b[0m\u001b[0mjsonData\u001b[0m\u001b[0;34m)\u001b[0m\u001b[0;34m\u001b[0m\u001b[0m\n",
      "\u001b[0;32m/usr/lib/python2.7/urllib2.pyc\u001b[0m in \u001b[0;36murlopen\u001b[0;34m(url, data, timeout)\u001b[0m\n\u001b[1;32m    125\u001b[0m     \u001b[0;32mif\u001b[0m \u001b[0m_opener\u001b[0m \u001b[0;32mis\u001b[0m \u001b[0mNone\u001b[0m\u001b[0;34m:\u001b[0m\u001b[0;34m\u001b[0m\u001b[0m\n\u001b[1;32m    126\u001b[0m         \u001b[0m_opener\u001b[0m \u001b[0;34m=\u001b[0m \u001b[0mbuild_opener\u001b[0m\u001b[0;34m(\u001b[0m\u001b[0;34m)\u001b[0m\u001b[0;34m\u001b[0m\u001b[0m\n\u001b[0;32m--> 127\u001b[0;31m     \u001b[0;32mreturn\u001b[0m \u001b[0m_opener\u001b[0m\u001b[0;34m.\u001b[0m\u001b[0mopen\u001b[0m\u001b[0;34m(\u001b[0m\u001b[0murl\u001b[0m\u001b[0;34m,\u001b[0m \u001b[0mdata\u001b[0m\u001b[0;34m,\u001b[0m \u001b[0mtimeout\u001b[0m\u001b[0;34m)\u001b[0m\u001b[0;34m\u001b[0m\u001b[0m\n\u001b[0m\u001b[1;32m    128\u001b[0m \u001b[0;34m\u001b[0m\u001b[0m\n\u001b[1;32m    129\u001b[0m \u001b[0;32mdef\u001b[0m \u001b[0minstall_opener\u001b[0m\u001b[0;34m(\u001b[0m\u001b[0mopener\u001b[0m\u001b[0;34m)\u001b[0m\u001b[0;34m:\u001b[0m\u001b[0;34m\u001b[0m\u001b[0m\n",
      "\u001b[0;32m/usr/lib/python2.7/urllib2.pyc\u001b[0m in \u001b[0;36mopen\u001b[0;34m(self, fullurl, data, timeout)\u001b[0m\n\u001b[1;32m    405\u001b[0m         \u001b[0;32mfor\u001b[0m \u001b[0mprocessor\u001b[0m \u001b[0;32min\u001b[0m \u001b[0mself\u001b[0m\u001b[0;34m.\u001b[0m\u001b[0mprocess_response\u001b[0m\u001b[0;34m.\u001b[0m\u001b[0mget\u001b[0m\u001b[0;34m(\u001b[0m\u001b[0mprotocol\u001b[0m\u001b[0;34m,\u001b[0m \u001b[0;34m[\u001b[0m\u001b[0;34m]\u001b[0m\u001b[0;34m)\u001b[0m\u001b[0;34m:\u001b[0m\u001b[0;34m\u001b[0m\u001b[0m\n\u001b[1;32m    406\u001b[0m             \u001b[0mmeth\u001b[0m \u001b[0;34m=\u001b[0m \u001b[0mgetattr\u001b[0m\u001b[0;34m(\u001b[0m\u001b[0mprocessor\u001b[0m\u001b[0;34m,\u001b[0m \u001b[0mmeth_name\u001b[0m\u001b[0;34m)\u001b[0m\u001b[0;34m\u001b[0m\u001b[0m\n\u001b[0;32m--> 407\u001b[0;31m             \u001b[0mresponse\u001b[0m \u001b[0;34m=\u001b[0m \u001b[0mmeth\u001b[0m\u001b[0;34m(\u001b[0m\u001b[0mreq\u001b[0m\u001b[0;34m,\u001b[0m \u001b[0mresponse\u001b[0m\u001b[0;34m)\u001b[0m\u001b[0;34m\u001b[0m\u001b[0m\n\u001b[0m\u001b[1;32m    408\u001b[0m \u001b[0;34m\u001b[0m\u001b[0m\n\u001b[1;32m    409\u001b[0m         \u001b[0;32mreturn\u001b[0m \u001b[0mresponse\u001b[0m\u001b[0;34m\u001b[0m\u001b[0m\n",
      "\u001b[0;32m/usr/lib/python2.7/urllib2.pyc\u001b[0m in \u001b[0;36mhttp_response\u001b[0;34m(self, request, response)\u001b[0m\n\u001b[1;32m    518\u001b[0m         \u001b[0;32mif\u001b[0m \u001b[0;32mnot\u001b[0m \u001b[0;34m(\u001b[0m\u001b[0;36m200\u001b[0m \u001b[0;34m<=\u001b[0m \u001b[0mcode\u001b[0m \u001b[0;34m<\u001b[0m \u001b[0;36m300\u001b[0m\u001b[0;34m)\u001b[0m\u001b[0;34m:\u001b[0m\u001b[0;34m\u001b[0m\u001b[0m\n\u001b[1;32m    519\u001b[0m             response = self.parent.error(\n\u001b[0;32m--> 520\u001b[0;31m                 'http', request, response, code, msg, hdrs)\n\u001b[0m\u001b[1;32m    521\u001b[0m \u001b[0;34m\u001b[0m\u001b[0m\n\u001b[1;32m    522\u001b[0m         \u001b[0;32mreturn\u001b[0m \u001b[0mresponse\u001b[0m\u001b[0;34m\u001b[0m\u001b[0m\n",
      "\u001b[0;32m/usr/lib/python2.7/urllib2.pyc\u001b[0m in \u001b[0;36merror\u001b[0;34m(self, proto, *args)\u001b[0m\n\u001b[1;32m    443\u001b[0m         \u001b[0;32mif\u001b[0m \u001b[0mhttp_err\u001b[0m\u001b[0;34m:\u001b[0m\u001b[0;34m\u001b[0m\u001b[0m\n\u001b[1;32m    444\u001b[0m             \u001b[0margs\u001b[0m \u001b[0;34m=\u001b[0m \u001b[0;34m(\u001b[0m\u001b[0mdict\u001b[0m\u001b[0;34m,\u001b[0m \u001b[0;34m'default'\u001b[0m\u001b[0;34m,\u001b[0m \u001b[0;34m'http_error_default'\u001b[0m\u001b[0;34m)\u001b[0m \u001b[0;34m+\u001b[0m \u001b[0morig_args\u001b[0m\u001b[0;34m\u001b[0m\u001b[0m\n\u001b[0;32m--> 445\u001b[0;31m             \u001b[0;32mreturn\u001b[0m \u001b[0mself\u001b[0m\u001b[0;34m.\u001b[0m\u001b[0m_call_chain\u001b[0m\u001b[0;34m(\u001b[0m\u001b[0;34m*\u001b[0m\u001b[0margs\u001b[0m\u001b[0;34m)\u001b[0m\u001b[0;34m\u001b[0m\u001b[0m\n\u001b[0m\u001b[1;32m    446\u001b[0m \u001b[0;34m\u001b[0m\u001b[0m\n\u001b[1;32m    447\u001b[0m \u001b[0;31m# XXX probably also want an abstract factory that knows when it makes\u001b[0m\u001b[0;34m\u001b[0m\u001b[0;34m\u001b[0m\u001b[0m\n",
      "\u001b[0;32m/usr/lib/python2.7/urllib2.pyc\u001b[0m in \u001b[0;36m_call_chain\u001b[0;34m(self, chain, kind, meth_name, *args)\u001b[0m\n\u001b[1;32m    377\u001b[0m             \u001b[0mfunc\u001b[0m \u001b[0;34m=\u001b[0m \u001b[0mgetattr\u001b[0m\u001b[0;34m(\u001b[0m\u001b[0mhandler\u001b[0m\u001b[0;34m,\u001b[0m \u001b[0mmeth_name\u001b[0m\u001b[0;34m)\u001b[0m\u001b[0;34m\u001b[0m\u001b[0m\n\u001b[1;32m    378\u001b[0m \u001b[0;34m\u001b[0m\u001b[0m\n\u001b[0;32m--> 379\u001b[0;31m             \u001b[0mresult\u001b[0m \u001b[0;34m=\u001b[0m \u001b[0mfunc\u001b[0m\u001b[0;34m(\u001b[0m\u001b[0;34m*\u001b[0m\u001b[0margs\u001b[0m\u001b[0;34m)\u001b[0m\u001b[0;34m\u001b[0m\u001b[0m\n\u001b[0m\u001b[1;32m    380\u001b[0m             \u001b[0;32mif\u001b[0m \u001b[0mresult\u001b[0m \u001b[0;32mis\u001b[0m \u001b[0;32mnot\u001b[0m \u001b[0mNone\u001b[0m\u001b[0;34m:\u001b[0m\u001b[0;34m\u001b[0m\u001b[0m\n\u001b[1;32m    381\u001b[0m                 \u001b[0;32mreturn\u001b[0m \u001b[0mresult\u001b[0m\u001b[0;34m\u001b[0m\u001b[0m\n",
      "\u001b[0;32m/usr/lib/python2.7/urllib2.pyc\u001b[0m in \u001b[0;36mhttp_error_default\u001b[0;34m(self, req, fp, code, msg, hdrs)\u001b[0m\n\u001b[1;32m    526\u001b[0m \u001b[0;32mclass\u001b[0m \u001b[0mHTTPDefaultErrorHandler\u001b[0m\u001b[0;34m(\u001b[0m\u001b[0mBaseHandler\u001b[0m\u001b[0;34m)\u001b[0m\u001b[0;34m:\u001b[0m\u001b[0;34m\u001b[0m\u001b[0m\n\u001b[1;32m    527\u001b[0m     \u001b[0;32mdef\u001b[0m \u001b[0mhttp_error_default\u001b[0m\u001b[0;34m(\u001b[0m\u001b[0mself\u001b[0m\u001b[0;34m,\u001b[0m \u001b[0mreq\u001b[0m\u001b[0;34m,\u001b[0m \u001b[0mfp\u001b[0m\u001b[0;34m,\u001b[0m \u001b[0mcode\u001b[0m\u001b[0;34m,\u001b[0m \u001b[0mmsg\u001b[0m\u001b[0;34m,\u001b[0m \u001b[0mhdrs\u001b[0m\u001b[0;34m)\u001b[0m\u001b[0;34m:\u001b[0m\u001b[0;34m\u001b[0m\u001b[0m\n\u001b[0;32m--> 528\u001b[0;31m         \u001b[0;32mraise\u001b[0m \u001b[0mHTTPError\u001b[0m\u001b[0;34m(\u001b[0m\u001b[0mreq\u001b[0m\u001b[0;34m.\u001b[0m\u001b[0mget_full_url\u001b[0m\u001b[0;34m(\u001b[0m\u001b[0;34m)\u001b[0m\u001b[0;34m,\u001b[0m \u001b[0mcode\u001b[0m\u001b[0;34m,\u001b[0m \u001b[0mmsg\u001b[0m\u001b[0;34m,\u001b[0m \u001b[0mhdrs\u001b[0m\u001b[0;34m,\u001b[0m \u001b[0mfp\u001b[0m\u001b[0;34m)\u001b[0m\u001b[0;34m\u001b[0m\u001b[0m\n\u001b[0m\u001b[1;32m    529\u001b[0m \u001b[0;34m\u001b[0m\u001b[0m\n\u001b[1;32m    530\u001b[0m \u001b[0;32mclass\u001b[0m \u001b[0mHTTPRedirectHandler\u001b[0m\u001b[0;34m(\u001b[0m\u001b[0mBaseHandler\u001b[0m\u001b[0;34m)\u001b[0m\u001b[0;34m:\u001b[0m\u001b[0;34m\u001b[0m\u001b[0m\n",
      "\u001b[0;31mHTTPError\u001b[0m: HTTP Error 400: Bad Request"
     ]
    }
   ],
   "source": [
    "request = urllib2.Request(url=\"http://p101.iotaledger.net:14700\", data=stringified, headers=headers)\n",
    "returnData = urllib2.urlopen(request).read()\n",
    "jsonData = json.loads(returnData)\n",
    "pprint.pprint(jsonData)"
   ]
  },
  {
   "cell_type": "code",
   "execution_count": null,
   "metadata": {},
   "outputs": [],
   "source": [
    "transactionHashes, tips"
   ]
  },
  {
   "cell_type": "code",
   "execution_count": null,
   "metadata": {},
   "outputs": [],
   "source": [
    "io"
   ]
  }
 ],
 "metadata": {
  "kernelspec": {
   "display_name": "Python 2",
   "language": "python",
   "name": "python2"
  },
  "language_info": {
   "codemirror_mode": {
    "name": "ipython",
    "version": 2
   },
   "file_extension": ".py",
   "mimetype": "text/x-python",
   "name": "python",
   "nbconvert_exporter": "python",
   "pygments_lexer": "ipython2",
   "version": "2.7.3"
  }
 },
 "nbformat": 4,
 "nbformat_minor": 2
}
